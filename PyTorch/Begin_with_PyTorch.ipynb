{
  "nbformat": 4,
  "nbformat_minor": 0,
  "metadata": {
    "colab": {
      "name": "Begin_with_PyTorch.ipynb",
      "provenance": [],
      "collapsed_sections": [],
      "authorship_tag": "ABX9TyMwObhYJvTa2jgLcvy/wLXx",
      "include_colab_link": true
    },
    "kernelspec": {
      "name": "python3",
      "display_name": "Python 3"
    },
    "language_info": {
      "name": "python"
    },
    "accelerator": "GPU",
    "gpuClass": "standard"
  },
  "cells": [
    {
      "cell_type": "markdown",
      "metadata": {
        "id": "view-in-github",
        "colab_type": "text"
      },
      "source": [
        "<a href=\"https://colab.research.google.com/github/stly1996/Colab-DL/blob/main/PyTorch/Begin_with_PyTorch.ipynb\" target=\"_parent\"><img src=\"https://colab.research.google.com/assets/colab-badge.svg\" alt=\"Open In Colab\"/></a>"
      ]
    },
    {
      "cell_type": "markdown",
      "source": [
        "#Tensors"
      ],
      "metadata": {
        "id": "aFTAECEVHBbE"
      }
    },
    {
      "cell_type": "code",
      "execution_count": null,
      "metadata": {
        "id": "w7VAnlcn9J-o"
      },
      "outputs": [],
      "source": [
        "import torch"
      ]
    },
    {
      "cell_type": "markdown",
      "source": [
        "##Create Tensor"
      ],
      "metadata": {
        "id": "BcrNYTrOHRkN"
      }
    },
    {
      "cell_type": "code",
      "source": [
        "x = torch.tensor([1,2,3])\n",
        "x"
      ],
      "metadata": {
        "colab": {
          "base_uri": "https://localhost:8080/"
        },
        "id": "Q8uYDlGe9U7X",
        "outputId": "3afd9815-a3ef-47ce-a357-619537bdef46"
      },
      "execution_count": null,
      "outputs": [
        {
          "output_type": "execute_result",
          "data": {
            "text/plain": [
              "tensor([1, 2, 3])"
            ]
          },
          "metadata": {},
          "execution_count": 4
        }
      ]
    },
    {
      "cell_type": "code",
      "source": [
        "y = torch.tensor([\n",
        "    [1,2,3],\n",
        "    [2,3,4],\n",
        "    [0,0,0]\n",
        "],dtype=torch.float)  #dtype change the format of data type\n",
        "y"
      ],
      "metadata": {
        "colab": {
          "base_uri": "https://localhost:8080/"
        },
        "id": "qZD0pcat9j5a",
        "outputId": "2f861577-c71c-45b1-f4c9-e4afdcf60df8"
      },
      "execution_count": null,
      "outputs": [
        {
          "output_type": "execute_result",
          "data": {
            "text/plain": [
              "tensor([[1., 2., 3.],\n",
              "        [2., 3., 4.],\n",
              "        [0., 0., 0.]])"
            ]
          },
          "metadata": {},
          "execution_count": 5
        }
      ]
    },
    {
      "cell_type": "code",
      "source": [
        "torch.ones(1,2,dtype=torch.int)  #two dimension, one row and two columns"
      ],
      "metadata": {
        "colab": {
          "base_uri": "https://localhost:8080/"
        },
        "id": "WWL8IWt699bD",
        "outputId": "71e8d0c6-3b55-4e12-8a10-1e2dbd6089a8"
      },
      "execution_count": null,
      "outputs": [
        {
          "output_type": "execute_result",
          "data": {
            "text/plain": [
              "tensor([[1, 1]], dtype=torch.int32)"
            ]
          },
          "metadata": {},
          "execution_count": 6
        }
      ]
    },
    {
      "cell_type": "code",
      "source": [
        "torch.zeros(5,3,2,dtype=torch.float)  #three dimension, "
      ],
      "metadata": {
        "colab": {
          "base_uri": "https://localhost:8080/"
        },
        "id": "Ods1YfLq-1TO",
        "outputId": "dfcd77b4-fc08-4b66-d58a-637f8c3783b6"
      },
      "execution_count": null,
      "outputs": [
        {
          "output_type": "execute_result",
          "data": {
            "text/plain": [
              "tensor([[[0., 0.],\n",
              "         [0., 0.],\n",
              "         [0., 0.]],\n",
              "\n",
              "        [[0., 0.],\n",
              "         [0., 0.],\n",
              "         [0., 0.]],\n",
              "\n",
              "        [[0., 0.],\n",
              "         [0., 0.],\n",
              "         [0., 0.]],\n",
              "\n",
              "        [[0., 0.],\n",
              "         [0., 0.],\n",
              "         [0., 0.]],\n",
              "\n",
              "        [[0., 0.],\n",
              "         [0., 0.],\n",
              "         [0., 0.]]])"
            ]
          },
          "metadata": {},
          "execution_count": 15
        }
      ]
    },
    {
      "cell_type": "code",
      "source": [
        "z = torch.rand(3,4,2,dtype=torch.float)\n",
        "z"
      ],
      "metadata": {
        "colab": {
          "base_uri": "https://localhost:8080/"
        },
        "id": "1Ys3U6PG_l3n",
        "outputId": "9f934cd1-8232-4854-862e-4242458679a0"
      },
      "execution_count": null,
      "outputs": [
        {
          "output_type": "execute_result",
          "data": {
            "text/plain": [
              "tensor([[[0.8089, 0.9797],\n",
              "         [0.7820, 0.5913],\n",
              "         [0.7645, 0.2835],\n",
              "         [0.2004, 0.5314]],\n",
              "\n",
              "        [[0.6508, 0.0478],\n",
              "         [0.6069, 0.8641],\n",
              "         [0.3632, 0.5313],\n",
              "         [0.8961, 0.9213]],\n",
              "\n",
              "        [[0.1718, 0.3819],\n",
              "         [0.1690, 0.3957],\n",
              "         [0.2551, 0.2114],\n",
              "         [0.7103, 0.2695]]])"
            ]
          },
          "metadata": {},
          "execution_count": 10
        }
      ]
    },
    {
      "cell_type": "code",
      "source": [
        "print(y)\n",
        "y[0]"
      ],
      "metadata": {
        "colab": {
          "base_uri": "https://localhost:8080/"
        },
        "id": "U7Zjw37T_70L",
        "outputId": "6c7cb6c2-4be4-4c68-be82-71dae30aabec"
      },
      "execution_count": null,
      "outputs": [
        {
          "output_type": "stream",
          "name": "stdout",
          "text": [
            "tensor([[1., 2., 3.],\n",
            "        [2., 3., 4.],\n",
            "        [0., 0., 0.]])\n"
          ]
        },
        {
          "output_type": "execute_result",
          "data": {
            "text/plain": [
              "tensor([1., 2., 3.])"
            ]
          },
          "metadata": {},
          "execution_count": 11
        }
      ]
    },
    {
      "cell_type": "markdown",
      "source": [
        "##Cut tensor format"
      ],
      "metadata": {
        "id": "7erOFPiPHJ7R"
      }
    },
    {
      "cell_type": "code",
      "source": [
        "y[:,1]"
      ],
      "metadata": {
        "colab": {
          "base_uri": "https://localhost:8080/"
        },
        "id": "wYT7Kp5mAEnr",
        "outputId": "b4f0d644-5feb-47c6-d047-58fdbfc871c9"
      },
      "execution_count": null,
      "outputs": [
        {
          "output_type": "execute_result",
          "data": {
            "text/plain": [
              "tensor([2., 3., 0.])"
            ]
          },
          "metadata": {},
          "execution_count": 12
        }
      ]
    },
    {
      "cell_type": "code",
      "source": [
        "z[2,:,0]"
      ],
      "metadata": {
        "colab": {
          "base_uri": "https://localhost:8080/"
        },
        "id": "Oln6PjyhAOxp",
        "outputId": "74ff00cd-99a7-4e33-e76a-be025443c17c"
      },
      "execution_count": null,
      "outputs": [
        {
          "output_type": "execute_result",
          "data": {
            "text/plain": [
              "tensor([0.1718, 0.1690, 0.2551, 0.7103])"
            ]
          },
          "metadata": {},
          "execution_count": 13
        }
      ]
    },
    {
      "cell_type": "markdown",
      "source": [
        "##Format and Calculate"
      ],
      "metadata": {
        "id": "b2WkflInHeMb"
      }
    },
    {
      "cell_type": "code",
      "source": [
        "y.size()"
      ],
      "metadata": {
        "colab": {
          "base_uri": "https://localhost:8080/"
        },
        "id": "pU2543T4A_yo",
        "outputId": "0ab2ce5f-12d4-41d0-ab1b-d151762749b6"
      },
      "execution_count": null,
      "outputs": [
        {
          "output_type": "execute_result",
          "data": {
            "text/plain": [
              "torch.Size([3, 3])"
            ]
          },
          "metadata": {},
          "execution_count": 18
        }
      ]
    },
    {
      "cell_type": "code",
      "source": [
        "y.size()[0]"
      ],
      "metadata": {
        "colab": {
          "base_uri": "https://localhost:8080/"
        },
        "id": "CoRcK-bKBb3V",
        "outputId": "61d43e2f-d9c9-43e2-8119-385aa9ea7ce2"
      },
      "execution_count": null,
      "outputs": [
        {
          "output_type": "execute_result",
          "data": {
            "text/plain": [
              "3"
            ]
          },
          "metadata": {},
          "execution_count": 19
        }
      ]
    },
    {
      "cell_type": "code",
      "source": [
        "t = torch.rand(3,3)\n",
        "t"
      ],
      "metadata": {
        "colab": {
          "base_uri": "https://localhost:8080/"
        },
        "id": "nqy3G9vfBhXH",
        "outputId": "0d845017-223b-4e92-baa7-b913cec21542"
      },
      "execution_count": null,
      "outputs": [
        {
          "output_type": "execute_result",
          "data": {
            "text/plain": [
              "tensor([[0.5769, 0.3040, 0.2127],\n",
              "        [0.3326, 0.2200, 0.9892],\n",
              "        [0.0317, 0.0614, 0.8530]])"
            ]
          },
          "metadata": {},
          "execution_count": 21
        }
      ]
    },
    {
      "cell_type": "code",
      "source": [
        "y+t"
      ],
      "metadata": {
        "colab": {
          "base_uri": "https://localhost:8080/"
        },
        "id": "l9TSH9bWBoxj",
        "outputId": "fe7128eb-0032-4ee0-a1ca-73af6fa6efa9"
      },
      "execution_count": null,
      "outputs": [
        {
          "output_type": "execute_result",
          "data": {
            "text/plain": [
              "tensor([[1.5769, 2.3040, 3.2127],\n",
              "        [2.3326, 3.2200, 4.9892],\n",
              "        [0.0317, 0.0614, 0.8530]])"
            ]
          },
          "metadata": {},
          "execution_count": 22
        }
      ]
    },
    {
      "cell_type": "code",
      "source": [
        "y*t"
      ],
      "metadata": {
        "colab": {
          "base_uri": "https://localhost:8080/"
        },
        "id": "07f440CzBrOY",
        "outputId": "6eafd01f-db71-4059-b6eb-0e0125248a92"
      },
      "execution_count": null,
      "outputs": [
        {
          "output_type": "execute_result",
          "data": {
            "text/plain": [
              "tensor([[0.5769, 0.6079, 0.6382],\n",
              "        [0.6652, 0.6600, 3.9567],\n",
              "        [0.0000, 0.0000, 0.0000]])"
            ]
          },
          "metadata": {},
          "execution_count": 23
        }
      ]
    },
    {
      "cell_type": "code",
      "source": [
        "y*3"
      ],
      "metadata": {
        "colab": {
          "base_uri": "https://localhost:8080/"
        },
        "id": "QhCflxOpBt2C",
        "outputId": "a830fab5-c6b6-4047-dbdf-57d70b7bc32b"
      },
      "execution_count": null,
      "outputs": [
        {
          "output_type": "execute_result",
          "data": {
            "text/plain": [
              "tensor([[ 3.,  6.,  9.],\n",
              "        [ 6.,  9., 12.],\n",
              "        [ 0.,  0.,  0.]])"
            ]
          },
          "metadata": {},
          "execution_count": 24
        }
      ]
    },
    {
      "cell_type": "markdown",
      "source": [
        "##Reshape Tensor"
      ],
      "metadata": {
        "id": "yIFUWi2sHvQd"
      }
    },
    {
      "cell_type": "code",
      "source": [
        "print(y)\n",
        "y.reshape(1,9)"
      ],
      "metadata": {
        "colab": {
          "base_uri": "https://localhost:8080/"
        },
        "id": "JFycIQqQBx2P",
        "outputId": "c2844049-4c60-4fa7-c0f0-2902b0843972"
      },
      "execution_count": null,
      "outputs": [
        {
          "output_type": "stream",
          "name": "stdout",
          "text": [
            "tensor([[1., 2., 3.],\n",
            "        [2., 3., 4.],\n",
            "        [0., 0., 0.]])\n"
          ]
        },
        {
          "output_type": "execute_result",
          "data": {
            "text/plain": [
              "tensor([[1., 2., 3., 2., 3., 4., 0., 0., 0.]])"
            ]
          },
          "metadata": {},
          "execution_count": 25
        }
      ]
    },
    {
      "cell_type": "code",
      "source": [
        "y.reshape(-1,)  #one array"
      ],
      "metadata": {
        "colab": {
          "base_uri": "https://localhost:8080/"
        },
        "id": "IjKlJ9h7CAz_",
        "outputId": "fdbc492b-2424-4d0a-9d49-ad908f3a19a8"
      },
      "execution_count": null,
      "outputs": [
        {
          "output_type": "execute_result",
          "data": {
            "text/plain": [
              "tensor([1., 2., 3., 2., 3., 4., 0., 0., 0.])"
            ]
          },
          "metadata": {},
          "execution_count": 26
        }
      ]
    },
    {
      "cell_type": "code",
      "source": [
        "torch.squeeze(y.reshape(1,9))  #squeeze reduce the dimension"
      ],
      "metadata": {
        "colab": {
          "base_uri": "https://localhost:8080/"
        },
        "id": "eF6aQgiGCKgQ",
        "outputId": "e947a19a-8338-4a07-ac50-bbd5e4d12952"
      },
      "execution_count": null,
      "outputs": [
        {
          "output_type": "execute_result",
          "data": {
            "text/plain": [
              "tensor([1., 2., 3., 2., 3., 4., 0., 0., 0.])"
            ]
          },
          "metadata": {},
          "execution_count": 29
        }
      ]
    },
    {
      "cell_type": "markdown",
      "source": [
        "##Tensor statistic"
      ],
      "metadata": {
        "id": "ewbtFAcEIGTq"
      }
    },
    {
      "cell_type": "code",
      "source": [
        "y.sum()"
      ],
      "metadata": {
        "colab": {
          "base_uri": "https://localhost:8080/"
        },
        "id": "GwwrewLpC8n0",
        "outputId": "81aac82c-06e7-4739-a6cb-ccbcf1d7e11a"
      },
      "execution_count": null,
      "outputs": [
        {
          "output_type": "execute_result",
          "data": {
            "text/plain": [
              "tensor(15.)"
            ]
          },
          "metadata": {},
          "execution_count": 31
        }
      ]
    },
    {
      "cell_type": "code",
      "source": [
        "y.sum(0)"
      ],
      "metadata": {
        "colab": {
          "base_uri": "https://localhost:8080/"
        },
        "id": "zWKt28EeDAYq",
        "outputId": "931f3282-2397-4703-a675-13913ef866a0"
      },
      "execution_count": null,
      "outputs": [
        {
          "output_type": "execute_result",
          "data": {
            "text/plain": [
              "tensor([3., 5., 7.])"
            ]
          },
          "metadata": {},
          "execution_count": 32
        }
      ]
    },
    {
      "cell_type": "code",
      "source": [
        "torch.max(y)"
      ],
      "metadata": {
        "colab": {
          "base_uri": "https://localhost:8080/"
        },
        "id": "HsHt4D7tDVQY",
        "outputId": "0604250d-8afc-48b5-9db4-25f4b9691e73"
      },
      "execution_count": null,
      "outputs": [
        {
          "output_type": "execute_result",
          "data": {
            "text/plain": [
              "tensor(4.)"
            ]
          },
          "metadata": {},
          "execution_count": 33
        }
      ]
    },
    {
      "cell_type": "code",
      "source": [
        "torch.max(y,0)"
      ],
      "metadata": {
        "colab": {
          "base_uri": "https://localhost:8080/"
        },
        "id": "V3vYO8VsD6wl",
        "outputId": "3d8ed834-8ff2-47cc-972f-5d0773bd2c25"
      },
      "execution_count": null,
      "outputs": [
        {
          "output_type": "execute_result",
          "data": {
            "text/plain": [
              "torch.return_types.max(\n",
              "values=tensor([2., 3., 4.]),\n",
              "indices=tensor([1, 1, 1]))"
            ]
          },
          "metadata": {},
          "execution_count": 34
        }
      ]
    },
    {
      "cell_type": "code",
      "source": [
        "print(y)\n",
        "values, indices = torch.max(y,0)  #max accross the columns\n",
        "print(values)\n",
        "print(indices)"
      ],
      "metadata": {
        "colab": {
          "base_uri": "https://localhost:8080/"
        },
        "id": "zkmFtySXDpVg",
        "outputId": "b26bb9d8-c93f-4c5a-81e9-edef0af00d3d"
      },
      "execution_count": null,
      "outputs": [
        {
          "output_type": "stream",
          "name": "stdout",
          "text": [
            "tensor([[1., 2., 3.],\n",
            "        [2., 3., 4.],\n",
            "        [0., 0., 0.]])\n",
            "tensor([2., 3., 4.])\n",
            "tensor([1, 1, 1])\n"
          ]
        }
      ]
    },
    {
      "cell_type": "markdown",
      "source": [
        "##Tensor to python data type"
      ],
      "metadata": {
        "id": "KepjsaZYIQnt"
      }
    },
    {
      "cell_type": "code",
      "source": [
        "#item()\n",
        "y[0,0].item()  #trans to the pure python number"
      ],
      "metadata": {
        "colab": {
          "base_uri": "https://localhost:8080/"
        },
        "id": "FMdPs14OERQo",
        "outputId": "9ae57f7e-7707-44d9-8739-8202d70c6e80"
      },
      "execution_count": null,
      "outputs": [
        {
          "output_type": "execute_result",
          "data": {
            "text/plain": [
              "1.0"
            ]
          },
          "metadata": {},
          "execution_count": 42
        }
      ]
    },
    {
      "cell_type": "code",
      "source": [
        "y[0,0].item()==1  #if y[0,0]==1 not work"
      ],
      "metadata": {
        "colab": {
          "base_uri": "https://localhost:8080/"
        },
        "id": "hK-f0GPmF6b6",
        "outputId": "45e4e350-c9a6-4cda-8463-4da901cb4591"
      },
      "execution_count": null,
      "outputs": [
        {
          "output_type": "execute_result",
          "data": {
            "text/plain": [
              "True"
            ]
          },
          "metadata": {},
          "execution_count": 44
        }
      ]
    },
    {
      "cell_type": "code",
      "source": [
        "y.numpy()"
      ],
      "metadata": {
        "colab": {
          "base_uri": "https://localhost:8080/"
        },
        "id": "DZmU3OogGq8a",
        "outputId": "d96be097-9732-40e3-d22a-048ff2c781c3"
      },
      "execution_count": null,
      "outputs": [
        {
          "output_type": "execute_result",
          "data": {
            "text/plain": [
              "array([[1., 2., 3.],\n",
              "       [2., 3., 4.],\n",
              "       [0., 0., 0.]], dtype=float32)"
            ]
          },
          "metadata": {},
          "execution_count": 45
        }
      ]
    },
    {
      "cell_type": "markdown",
      "source": [
        "##The concensus of array and Toensor"
      ],
      "metadata": {
        "id": "w9e9FUdfKlnH"
      }
    },
    {
      "cell_type": "code",
      "source": [
        "import numpy as np\n",
        "\n",
        "a=np.array([[1,2],[3,4]])  \n",
        "b=torch.from_numpy(a)\n",
        "#tensor and arrays share the same location in memory"
      ],
      "metadata": {
        "id": "-saN5uRiG8Sd"
      },
      "execution_count": null,
      "outputs": []
    },
    {
      "cell_type": "code",
      "source": [
        "b"
      ],
      "metadata": {
        "colab": {
          "base_uri": "https://localhost:8080/"
        },
        "id": "xho1_VMaKKOf",
        "outputId": "e98dcb33-eb21-4112-d571-bd95ba37e5ba"
      },
      "execution_count": null,
      "outputs": [
        {
          "output_type": "execute_result",
          "data": {
            "text/plain": [
              "tensor([[1, 2],\n",
              "        [3, 4]])"
            ]
          },
          "metadata": {},
          "execution_count": 52
        }
      ]
    },
    {
      "cell_type": "code",
      "source": [
        "a[0,0]=2\n",
        "a"
      ],
      "metadata": {
        "colab": {
          "base_uri": "https://localhost:8080/"
        },
        "id": "UQBI98BKJAvp",
        "outputId": "772acbbd-cdee-4527-d41a-92a99584ef09"
      },
      "execution_count": null,
      "outputs": [
        {
          "output_type": "execute_result",
          "data": {
            "text/plain": [
              "array([[2, 2],\n",
              "       [3, 4]])"
            ]
          },
          "metadata": {},
          "execution_count": 48
        }
      ]
    },
    {
      "cell_type": "code",
      "source": [
        "b #change the a in above, the b also be changed"
      ],
      "metadata": {
        "colab": {
          "base_uri": "https://localhost:8080/"
        },
        "id": "ftl2yqPKJPeO",
        "outputId": "cc8d4ffc-1fed-4990-f56b-d4a498f54740"
      },
      "execution_count": null,
      "outputs": [
        {
          "output_type": "execute_result",
          "data": {
            "text/plain": [
              "tensor([[2, 2],\n",
              "        [3, 4]])"
            ]
          },
          "metadata": {},
          "execution_count": 49
        }
      ]
    },
    {
      "cell_type": "markdown",
      "source": [
        "#PyTorch with GPU"
      ],
      "metadata": {
        "id": "IKUEF8NwMYS6"
      }
    },
    {
      "cell_type": "code",
      "source": [
        "import torch"
      ],
      "metadata": {
        "id": "5JoaAlyMKX1K"
      },
      "execution_count": null,
      "outputs": []
    },
    {
      "cell_type": "code",
      "source": [
        "torch.cuda.is_available()"
      ],
      "metadata": {
        "colab": {
          "base_uri": "https://localhost:8080/"
        },
        "id": "Yvi_4TXiMfAq",
        "outputId": "210ae980-7cf3-4a13-c623-86a1c6fc62a1"
      },
      "execution_count": null,
      "outputs": [
        {
          "output_type": "execute_result",
          "data": {
            "text/plain": [
              "False"
            ]
          },
          "metadata": {},
          "execution_count": 54
        }
      ]
    },
    {
      "cell_type": "markdown",
      "source": [
        "##GPU work"
      ],
      "metadata": {
        "id": "55I18PJ6PYqe"
      }
    },
    {
      "cell_type": "code",
      "source": [
        "#Runtime -> Change runtime type -> Choose GPU"
      ],
      "metadata": {
        "id": "1cXC7pxWMu1r"
      },
      "execution_count": null,
      "outputs": []
    },
    {
      "cell_type": "code",
      "source": [
        "import torch"
      ],
      "metadata": {
        "id": "68zLdnIGNHRz"
      },
      "execution_count": null,
      "outputs": []
    },
    {
      "cell_type": "code",
      "source": [
        "torch.cuda.is_available()"
      ],
      "metadata": {
        "colab": {
          "base_uri": "https://localhost:8080/"
        },
        "id": "4jg-uyYbNEHr",
        "outputId": "414b0a7c-7e9a-4655-b8b2-4e5de96782e4"
      },
      "execution_count": null,
      "outputs": [
        {
          "output_type": "execute_result",
          "data": {
            "text/plain": [
              "True"
            ]
          },
          "metadata": {},
          "execution_count": 3
        }
      ]
    },
    {
      "cell_type": "code",
      "source": [
        "#now GPU work"
      ],
      "metadata": {
        "id": "VxdmFedsNMed"
      },
      "execution_count": null,
      "outputs": []
    },
    {
      "cell_type": "code",
      "source": [
        "device=torch.device('cuda')\n",
        "#device is a varaible name, holds the information on the cuda"
      ],
      "metadata": {
        "id": "YqlqLojkNQA9"
      },
      "execution_count": null,
      "outputs": []
    },
    {
      "cell_type": "code",
      "source": [
        "a = torch.rand(3,3)\n",
        "a"
      ],
      "metadata": {
        "colab": {
          "base_uri": "https://localhost:8080/"
        },
        "id": "22dycfOiN5oC",
        "outputId": "80c27c82-25ab-4075-f309-08e9d3d8ce9e"
      },
      "execution_count": null,
      "outputs": [
        {
          "output_type": "execute_result",
          "data": {
            "text/plain": [
              "tensor([[0.6269, 0.3876, 0.5225],\n",
              "        [0.5255, 0.9122, 0.8942],\n",
              "        [0.8845, 0.8918, 0.1529]])"
            ]
          },
          "metadata": {},
          "execution_count": 8
        }
      ]
    },
    {
      "cell_type": "code",
      "source": [
        "b = torch.rand(3,3).to(device) \n",
        "#call GPU (if work, the printed information contain device='cuda:0')\n",
        "b"
      ],
      "metadata": {
        "colab": {
          "base_uri": "https://localhost:8080/"
        },
        "id": "0OViOG0XOACs",
        "outputId": "ed973e82-89e9-42ed-dfbc-15029d2a3406"
      },
      "execution_count": null,
      "outputs": [
        {
          "output_type": "execute_result",
          "data": {
            "text/plain": [
              "tensor([[0.2472, 0.4071, 0.0353],\n",
              "        [0.3519, 0.8930, 0.8283],\n",
              "        [0.8955, 0.7208, 0.2460]], device='cuda:0')"
            ]
          },
          "metadata": {},
          "execution_count": 9
        }
      ]
    },
    {
      "cell_type": "code",
      "source": [
        "c = torch.rand(3,3).cuda()  #another way to call GPU (more efficacy)\n",
        "c"
      ],
      "metadata": {
        "colab": {
          "base_uri": "https://localhost:8080/"
        },
        "id": "VViu_X77OLtk",
        "outputId": "d2aae1c4-f5df-43dd-bede-228054a96063"
      },
      "execution_count": null,
      "outputs": [
        {
          "output_type": "execute_result",
          "data": {
            "text/plain": [
              "tensor([[0.9070, 0.5126, 0.0091],\n",
              "        [0.9576, 0.8860, 0.4478],\n",
              "        [0.0922, 0.5483, 0.8397]], device='cuda:0')"
            ]
          },
          "metadata": {},
          "execution_count": 11
        }
      ]
    },
    {
      "cell_type": "markdown",
      "source": [
        "##Time to calculate the consuming"
      ],
      "metadata": {
        "id": "angal9mbPVb_"
      }
    },
    {
      "cell_type": "code",
      "source": [
        "import time"
      ],
      "metadata": {
        "id": "_NNhM4XvO1eN"
      },
      "execution_count": null,
      "outputs": []
    },
    {
      "cell_type": "code",
      "source": [
        "start=time.time()\n",
        "a=torch.ones(400,400)\n",
        "for _ in range(10000):\n",
        "  a+=a\n",
        "duration=time.time()-start\n",
        "print(f'CPU time:{duration}')\n",
        "\n",
        "\n",
        "start=time.time()\n",
        "b=torch.ones(400,400).to(device)\n",
        "for _ in range(10000):\n",
        "  b+=b\n",
        "duration=time.time()-start\n",
        "print(f'GPU time:{duration}')"
      ],
      "metadata": {
        "colab": {
          "base_uri": "https://localhost:8080/"
        },
        "id": "kE4mHhdzPtw4",
        "outputId": "363dd05c-fcea-453a-b923-e0eea0a90d3e"
      },
      "execution_count": null,
      "outputs": [
        {
          "output_type": "stream",
          "name": "stdout",
          "text": [
            "CPU time:0.23386573791503906\n",
            "GPU time:0.05771136283874512\n"
          ]
        }
      ]
    },
    {
      "cell_type": "markdown",
      "source": [
        "#PyTorch-DNN"
      ],
      "metadata": {
        "id": "K7bjf6cXSUSU"
      }
    },
    {
      "cell_type": "code",
      "source": [
        "#Automatic differentiation: a procedure to compute derivatives\n",
        "#Backpropagation: partial derivatives in neural network\n",
        "#Autograd(in PyTorch): keeping track of operations done on tensors"
      ],
      "metadata": {
        "id": "WSkzxacRPui8"
      },
      "execution_count": null,
      "outputs": []
    },
    {
      "cell_type": "markdown",
      "source": [
        "##Begin"
      ],
      "metadata": {
        "id": "8UMalxXXXLCI"
      }
    },
    {
      "cell_type": "code",
      "source": [
        "import torch"
      ],
      "metadata": {
        "id": "S5gTc_OHXOd5"
      },
      "execution_count": 1,
      "outputs": []
    },
    {
      "cell_type": "code",
      "source": [
        "w = torch.tensor([1], dtype=torch.float, requires_grad=True)  \n",
        "#requires_grad = True => keep track of the operations apply on w\n",
        "#make it can learn backwards\n",
        "#To compute the gradients, a tensor must have its parameter requires_grad = true\n",
        "w"
      ],
      "metadata": {
        "id": "wig2lQmeXR-x",
        "colab": {
          "base_uri": "https://localhost:8080/"
        },
        "outputId": "3ddec5bf-7155-48af-a11f-097c3963dc28"
      },
      "execution_count": 2,
      "outputs": [
        {
          "output_type": "execute_result",
          "data": {
            "text/plain": [
              "tensor([1.], requires_grad=True)"
            ]
          },
          "metadata": {},
          "execution_count": 2
        }
      ]
    },
    {
      "cell_type": "code",
      "source": [
        "def forward(x):\n",
        "  return x * w\n",
        "\n",
        "def loss(x,y):\n",
        "  y_pred = forward(x)\n",
        "  return (y_pred-y) ** 2"
      ],
      "metadata": {
        "id": "XJwzoF5vXtHm"
      },
      "execution_count": 3,
      "outputs": []
    },
    {
      "cell_type": "code",
      "source": [
        "print(f'Predict from 1:{forward(1).data[0]}')  #.data to numerical value"
      ],
      "metadata": {
        "colab": {
          "base_uri": "https://localhost:8080/"
        },
        "id": "MdLptPUaYFkz",
        "outputId": "c08bac54-e62b-4376-f5ee-b2f0288da84c"
      },
      "execution_count": 4,
      "outputs": [
        {
          "output_type": "stream",
          "name": "stdout",
          "text": [
            "Predict from 1:1.0\n"
          ]
        }
      ]
    },
    {
      "cell_type": "code",
      "source": [
        "my_loss = loss(1,2)\n",
        "print(my_loss)\n",
        "\n",
        "my_loss.backward()\n",
        "print(f'Gradient:1,2,{w.grad.data[0]}')"
      ],
      "metadata": {
        "colab": {
          "base_uri": "https://localhost:8080/"
        },
        "id": "Q5s27Z40YTBi",
        "outputId": "3d17065a-c56e-422a-fc91-4ec7b50c2969"
      },
      "execution_count": 5,
      "outputs": [
        {
          "output_type": "stream",
          "name": "stdout",
          "text": [
            "tensor([1.], grad_fn=<PowBackward0>)\n",
            "Gradient:1,2,-2.0\n"
          ]
        }
      ]
    },
    {
      "cell_type": "code",
      "source": [
        "w.data = w.data - 0.1 * w.grad.data\n",
        "w.grad.data.zero_()  \n",
        "#clean the multiple forward passes through the Network\n",
        "\n",
        "print(w)"
      ],
      "metadata": {
        "colab": {
          "base_uri": "https://localhost:8080/"
        },
        "id": "U4OCqFYKY4eA",
        "outputId": "e3a062f4-c051-4d31-e034-f8bd51718ec6"
      },
      "execution_count": 6,
      "outputs": [
        {
          "output_type": "stream",
          "name": "stdout",
          "text": [
            "tensor([1.2000], requires_grad=True)\n"
          ]
        }
      ]
    },
    {
      "cell_type": "markdown",
      "source": [
        "##Models"
      ],
      "metadata": {
        "id": "D_HPyJ5S3OFU"
      }
    },
    {
      "cell_type": "code",
      "source": [
        "import torch; torch.manual_seed(0)  #seed to zero\n",
        "import matplotlib.pyplot as plt"
      ],
      "metadata": {
        "id": "fxCfSXbC3qvs"
      },
      "execution_count": 17,
      "outputs": []
    },
    {
      "cell_type": "code",
      "source": [
        "#Data generation and visualization\n",
        "x = torch.rand(1000, 1)  #numbers between 0 and 1\n",
        "y = 2 * x + 0.1 * torch.rand(x.size())  #0.1 * torch.rand(x.size() add the noise\n",
        "\n",
        "plt.scatter(x.data.numpy(), y.data.numpy())  #.data.numpy() tensor to numpy\n",
        "plt.xlim(0,1)\n",
        "plt.ylim(0,2)\n",
        "plt.show()"
      ],
      "metadata": {
        "colab": {
          "base_uri": "https://localhost:8080/",
          "height": 269
        },
        "id": "HLVJ5rRh16ps",
        "outputId": "fa84d2a8-9fb1-4c0d-83c2-5340c165eac5"
      },
      "execution_count": 8,
      "outputs": [
        {
          "output_type": "display_data",
          "data": {
            "text/plain": [
              "<Figure size 432x288 with 1 Axes>"
            ],
            "image/png": "[encoded data removed]"
          },
          "metadata": {
            "needs_background": "light"
          }
        }
      ]
    },
    {
      "cell_type": "code",
      "source": [
        "class MyNNet(torch.nn.Module): #python class that inherits from module class\n",
        "  def __init__(self, n_hidden):\n",
        "    super(MyNNet, self).__init__() #call the initialization method from the parent class\n",
        "    self.hidden = torch.nn.Linear(1, n_hidden) #single node hidden layer\n",
        "    self.relu = torch.nn.ReLU()\n",
        "    self.output = torch.nn.Linear(n_hidden, 1) #output layer\n",
        "  def forward(self, x):\n",
        "    out = self.hidden(x)\n",
        "    out = self.relu(out)\n",
        "    out = self.output(out)\n",
        "    return out\n"
      ],
      "metadata": {
        "id": "l3WTS9wny4CY"
      },
      "execution_count": 9,
      "outputs": []
    },
    {
      "cell_type": "code",
      "source": [
        "n_epoch = 10 #10 rounds\n",
        "learning_rate = 0.001\n",
        "\n",
        "model = MyNNet(10)\n",
        "optimizer = torch.optim.SGD(model.parameters(), lr=learning_rate)\n",
        "loss_func = torch.nn.MSELoss() #use mean square error function"
      ],
      "metadata": {
        "id": "3kd5lsQ-4WwT"
      },
      "execution_count": 10,
      "outputs": []
    },
    {
      "cell_type": "code",
      "source": [
        "#start training\n",
        "for epoch in range(n_epoch):\n",
        "  for i in range(x.size()[0]):\n",
        "    y_pred = model(x[i]) #forward pass\n",
        "    loss = loss_func(y_pred, y[i])\n",
        "\n",
        "    optimizer.zero_grad() #clear gradients for next pass\n",
        "    loss.backward() #backward pass\n",
        "    optimizer.step() #adjust parameters\n",
        "\n",
        "  print(f'Epoch {epoch + 1}, Loss: {loss.item():.4f}') \n",
        "  #loss value will get better after each round"
      ],
      "metadata": {
        "colab": {
          "base_uri": "https://localhost:8080/"
        },
        "id": "PvuBDI0745fb",
        "outputId": "8f53d202-d1db-4414-9872-c08de4647956"
      },
      "execution_count": 11,
      "outputs": [
        {
          "output_type": "stream",
          "name": "stdout",
          "text": [
            "Epoch 1, Loss: 0.0170\n",
            "Epoch 2, Loss: 0.0061\n",
            "Epoch 3, Loss: 0.0012\n",
            "Epoch 4, Loss: 0.0001\n",
            "Epoch 5, Loss: 0.0001\n",
            "Epoch 6, Loss: 0.0006\n",
            "Epoch 7, Loss: 0.0012\n",
            "Epoch 8, Loss: 0.0018\n",
            "Epoch 9, Loss: 0.0022\n",
            "Epoch 10, Loss: 0.0025\n"
          ]
        }
      ]
    },
    {
      "cell_type": "code",
      "source": [
        "x_test = torch.rand(50, 1)\n",
        "y_pred = []\n",
        "with torch.no_grad(): #no grad => no need to calculate the gradient\n",
        "# bacause only want to compute the gradients in the training phase, which has already been completed\n",
        "  for i in range(x_test.size()[0]):\n",
        "    y_pred.append(model(x_test[i]).item())\n",
        "\n",
        "plt.scatter(x_test.data.numpy(), y_pred)\n",
        "plt.xlim(0, 1)\n",
        "plt.ylim(0, 2)\n",
        "plt.show()"
      ],
      "metadata": {
        "colab": {
          "base_uri": "https://localhost:8080/",
          "height": 269
        },
        "id": "EeA56-FU_W0Y",
        "outputId": "8477abff-c218-4473-e5ba-ea30cf47f60e"
      },
      "execution_count": 12,
      "outputs": [
        {
          "output_type": "display_data",
          "data": {
            "text/plain": [
              "<Figure size 432x288 with 1 Axes>"
            ],
            "image/png": "[encoded data removed]"
          },
          "metadata": {
            "needs_background": "light"
          }
        }
      ]
    },
    {
      "cell_type": "markdown",
      "source": [
        "##Save model"
      ],
      "metadata": {
        "id": "39MqhMIZQwjP"
      }
    },
    {
      "cell_type": "code",
      "source": [
        "for param_tensor in model.state_dict():  \n",
        "#state_dict() which reture a dictionary containing all the information\n",
        "  print(param_tensor)\n",
        "  print(model.state_dict()[param_tensor])\n",
        "  print()\n",
        "#print out entry information, access all the weights and biases"
      ],
      "metadata": {
        "colab": {
          "base_uri": "https://localhost:8080/"
        },
        "id": "fLcb8mo5QzLS",
        "outputId": "c0166152-a7dc-4ed8-f4f2-b620f013ab5f"
      },
      "execution_count": 13,
      "outputs": [
        {
          "output_type": "stream",
          "name": "stdout",
          "text": [
            "hidden.weight\n",
            "tensor([[ 0.5547],\n",
            "        [ 0.1284],\n",
            "        [ 0.1526],\n",
            "        [ 0.6374],\n",
            "        [ 1.0640],\n",
            "        [-0.4040],\n",
            "        [-0.1096],\n",
            "        [ 0.5825],\n",
            "        [-0.4846],\n",
            "        [ 1.3240]])\n",
            "\n",
            "hidden.bias\n",
            "tensor([-0.6850,  0.4552, -0.7183,  0.1971,  0.4783,  0.1762, -0.1002,  0.5312,\n",
            "        -0.7180, -0.2322])\n",
            "\n",
            "output.weight\n",
            "tensor([[-0.2695, -0.1310,  0.0082,  0.3098,  0.7014, -0.1078,  0.2632,  0.2117,\n",
            "         -0.0865,  0.7219]])\n",
            "\n",
            "output.bias\n",
            "tensor([-0.2447])\n",
            "\n"
          ]
        }
      ]
    },
    {
      "cell_type": "code",
      "source": [
        "from google.colab import drive\n",
        "drive.mount('/content/drive/')"
      ],
      "metadata": {
        "colab": {
          "base_uri": "https://localhost:8080/"
        },
        "id": "b1rco5vURxUC",
        "outputId": "25ffc384-3ec7-4468-8962-d39bde5e3f74"
      },
      "execution_count": 16,
      "outputs": [
        {
          "output_type": "stream",
          "name": "stdout",
          "text": [
            "Mounted at /content/drive/\n"
          ]
        }
      ]
    },
    {
      "cell_type": "code",
      "source": [
        "torch.save(model.state_dict(),'/content/drive/My Drive/DL-Udemy/sample.pth')  \n",
        "#first: state dictionary, second: output file name (including path)"
      ],
      "metadata": {
        "id": "B_qvG97GSPQ_"
      },
      "execution_count": 19,
      "outputs": []
    },
    {
      "cell_type": "code",
      "source": [
        "model = MyNNet(10)\n",
        "model.load_state_dict(torch.load('/content/drive/My Drive/DL-Udemy/sample.pth'))\n",
        "model.eval()  #loading the model to indicate that this model is now in the evaluation phase\n",
        "#if not call model.eval(), might result in verious incorrect behaviors after load the model"
      ],
      "metadata": {
        "colab": {
          "base_uri": "https://localhost:8080/"
        },
        "id": "sLUTjvu1WyeC",
        "outputId": "4664f63b-7f4d-4dd5-ebd7-c158fd163bf0"
      },
      "execution_count": 21,
      "outputs": [
        {
          "output_type": "execute_result",
          "data": {
            "text/plain": [
              "MyNNet(\n",
              "  (hidden): Linear(in_features=1, out_features=10, bias=True)\n",
              "  (relu): ReLU()\n",
              "  (output): Linear(in_features=10, out_features=1, bias=True)\n",
              ")"
            ]
          },
          "metadata": {},
          "execution_count": 21
        }
      ]
    },
    {
      "cell_type": "code",
      "source": [
        "x_test = torch.rand(50, 1)\n",
        "y_pred = []\n",
        "with torch.no_grad():\n",
        "  for i in range(x_test.size()[0]):\n",
        "    y_pred.append(model(x_test[i]).item())\n",
        "\n",
        "plt.scatter(x_test.data.numpy(), y_pred)\n",
        "plt.xlim(0, 1)\n",
        "plt.ylim(0, 2)\n",
        "plt.show()"
      ],
      "metadata": {
        "colab": {
          "base_uri": "https://localhost:8080/",
          "height": 269
        },
        "id": "uXw4W7coVTYF",
        "outputId": "d4cfb90c-4a65-4454-a06a-5952d0a52b01"
      },
      "execution_count": 22,
      "outputs": [
        {
          "output_type": "display_data",
          "data": {
            "text/plain": [
              "<Figure size 432x288 with 1 Axes>"
            ],
            "image/png": "[encoded data removed]"
          },
          "metadata": {
            "needs_background": "light"
          }
        }
      ]
    },
    {
      "cell_type": "code",
      "source": [
        "n_epoch = 15  #different\n",
        "learning_rate = 0.01  #different\n",
        "\n",
        "model = MyNNet(15)\n",
        "optimizer = torch.optim.SGD(model.parameters(), lr=learning_rate)\n",
        "loss_func = torch.nn.MSELoss() #use mean square error function"
      ],
      "metadata": {
        "id": "dp5qHhmjVT3b"
      },
      "execution_count": 26,
      "outputs": []
    },
    {
      "cell_type": "code",
      "source": [
        "for epoch in range(n_epoch):\n",
        "  if epoch == 10:\n",
        "    break\n",
        "\n",
        "  for i in range(x.size()[0]):\n",
        "    y_pred = model(x[i]) #forward pass\n",
        "    loss = loss_func(y_pred, y[i])\n",
        "\n",
        "    optimizer.zero_grad() #clear gradients for next pass\n",
        "    loss.backward() #backward pass\n",
        "    optimizer.step() #adjust parameters\n",
        "\n",
        "  print(f'Epoch {epoch + 1}, Loss: {loss.item():.4f}') \n",
        "  #loss value will get better after each round"
      ],
      "metadata": {
        "colab": {
          "base_uri": "https://localhost:8080/"
        },
        "id": "lq-QWiPbYZWk",
        "outputId": "1a9d5981-5d23-4751-f517-b9bd5854143d"
      },
      "execution_count": 27,
      "outputs": [
        {
          "output_type": "stream",
          "name": "stdout",
          "text": [
            "Epoch 1, Loss: 0.0015\n",
            "Epoch 2, Loss: 0.0017\n",
            "Epoch 3, Loss: 0.0018\n",
            "Epoch 4, Loss: 0.0018\n",
            "Epoch 5, Loss: 0.0019\n",
            "Epoch 6, Loss: 0.0019\n",
            "Epoch 7, Loss: 0.0020\n",
            "Epoch 8, Loss: 0.0020\n",
            "Epoch 9, Loss: 0.0021\n",
            "Epoch 10, Loss: 0.0021\n"
          ]
        }
      ]
    },
    {
      "cell_type": "code",
      "source": [
        "torch.save({\n",
        "    'epoch': epoch,\n",
        "    'model_state_dict': model.state_dict(),\n",
        "    'optimizer_state_dict': optimizer.state_dict(),\n",
        "    'loss': loss\n",
        "}, '/content/drive/My Drive/DL-Udemy/sample_v2.tar')"
      ],
      "metadata": {
        "id": "w5wEmPHUY2Sh"
      },
      "execution_count": 30,
      "outputs": []
    },
    {
      "cell_type": "code",
      "source": [
        "#loading checkpoint\n",
        "model = MyNNet(15)\n",
        "optimizer = torch.optim.SGD(model.parameters(),lr=learning_rate)\n",
        "\n",
        "checkpoint = torch.load('/content/drive/My Drive/DL-Udemy/sample_v2.tar')\n",
        "model.load_state_dict(checkpoint['model_state_dict'])\n",
        "optimizer.load_state_dict(checkpoint['optimizer_state_dict'])\n",
        "temp_epoch = checkpoint['epoch']\n",
        "loss = checkpoint['loss']\n",
        "\n",
        "print(temp_epoch)\n",
        "print(loss)"
      ],
      "metadata": {
        "colab": {
          "base_uri": "https://localhost:8080/"
        },
        "id": "di-IgigpZV90",
        "outputId": "9b24e6b0-3022-4f80-8296-ee997825490b"
      },
      "execution_count": 31,
      "outputs": [
        {
          "output_type": "stream",
          "name": "stdout",
          "text": [
            "10\n",
            "tensor(0.0021, requires_grad=True)\n"
          ]
        }
      ]
    },
    {
      "cell_type": "code",
      "source": [
        "#continue training\n",
        "model.train()  \n",
        "#same reason like use eval, ensure that the forward passes function in same way that they should\n",
        "for epoch in range(temp_epoch, n_epoch):\n",
        "  ..."
      ],
      "metadata": {
        "id": "qvkBZ5N3bnSi"
      },
      "execution_count": 32,
      "outputs": []
    }
  ]
}